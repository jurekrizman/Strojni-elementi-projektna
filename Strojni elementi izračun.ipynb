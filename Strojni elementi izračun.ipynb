{
 "cells": [
  {
   "cell_type": "code",
   "execution_count": 120,
   "id": "12061783",
   "metadata": {},
   "outputs": [],
   "source": [
    "import numpy as np\n",
    "from matplotlib import pyplot as plt"
   ]
  },
  {
   "cell_type": "markdown",
   "id": "8d3e31d7",
   "metadata": {},
   "source": [
    "# Podatki"
   ]
  },
  {
   "cell_type": "code",
   "execution_count": 121,
   "id": "0048b030",
   "metadata": {},
   "outputs": [],
   "source": [
    "Fy = 1 # kN\n",
    "Fx = 15 # kN\n",
    "L = 250 # mm\n",
    "# Jeklo: S235\n",
    "h = 40 # mm\n",
    "# C 140 x 60"
   ]
  },
  {
   "cell_type": "code",
   "execution_count": 122,
   "id": "8bef2a8b",
   "metadata": {},
   "outputs": [],
   "source": [
    "t = 8 # mm (debeliba pločevine)\n",
    "a = 5 # mm (debelina zvara)\n",
    "r = 30 # mm (pasnica - rebro)\n",
    "d1 = 90 # mm (pasnica)\n",
    "d2 = 70 # mm (stojin)\n",
    "d3 = 40 # mm (rebro)"
   ]
  },
  {
   "cell_type": "markdown",
   "id": "af546800",
   "metadata": {},
   "source": [
    "# Dimenzije"
   ]
  },
  {
   "cell_type": "code",
   "execution_count": 123,
   "id": "829303d7",
   "metadata": {},
   "outputs": [
    {
     "data": {
      "text/plain": [
       "[78, 5, 113, 5, 113, 5, 5]"
      ]
     },
     "execution_count": 123,
     "metadata": {},
     "output_type": "execute_result"
    }
   ],
   "source": [
    "y1 = d2 + t # mm (y - oddaljenost od središča)\n",
    "y2 = y4 = a\n",
    "y3 = y5 = d2 + t + r + a\n",
    "y7 = y6 = a\n",
    "y = [y1,y2,y3,y4,y5,y6,y7]\n",
    "y"
   ]
  },
  {
   "cell_type": "code",
   "execution_count": 124,
   "id": "43110c4a",
   "metadata": {},
   "outputs": [
    {
     "data": {
      "text/plain": [
       "[10, 0, 41.0, 95, 54.0, 13, 82]"
      ]
     },
     "execution_count": 124,
     "metadata": {},
     "output_type": "execute_result"
    }
   ],
   "source": [
    "x1 = 2*a # mm (x - oddaljenost od središča)\n",
    "x2 = 0\n",
    "x4 = a + d1\n",
    "x3 = a + d1/2 - t/2 - a\n",
    "x5 = a + d1/2 + t/2\n",
    "x6 = a+t\n",
    "x7 = a+d1-t-a\n",
    "x = [x1,x2,x3,x4,x5,x6,x7]\n",
    "x"
   ]
  },
  {
   "cell_type": "code",
   "execution_count": 125,
   "id": "56a52316",
   "metadata": {},
   "outputs": [
    {
     "data": {
      "text/plain": [
       "[5, 68, 30, 68, 30, 60, 60]"
      ]
     },
     "execution_count": 125,
     "metadata": {},
     "output_type": "execute_result"
    }
   ],
   "source": [
    "lzy1 = a # mm (y - dolžina zvara)\n",
    "lzy2 = lzy4 = d2 + t - 2*a # mm (y - dolžina zvara)\n",
    "lzy3 = lzy5 = d3 - 2*a # mm (y - dolžina zvara)\n",
    "lzy6 = lzy7 = lzy2 - t\n",
    "lzy = [lzy1,lzy2,lzy3,lzy4,lzy5,lzy6,lzy7]\n",
    "lzy"
   ]
  },
  {
   "cell_type": "code",
   "execution_count": 126,
   "id": "0db3251e",
   "metadata": {},
   "outputs": [
    {
     "data": {
      "text/plain": [
       "[80, 5, 5, 5, 5, 5, 5]"
      ]
     },
     "execution_count": 126,
     "metadata": {},
     "output_type": "execute_result"
    }
   ],
   "source": [
    "lzx1 = d1 - 2*a # mm (x - dolžina zvara)\n",
    "lzx2 = lzx4 = a # mm (x - dolžina zvara)\n",
    "lzx3 = lzx5 = a # mm (x - dolžina zvara)\n",
    "lzx6 = lzx7 = a\n",
    "lzx = [lzx1,lzx2,lzx3,lzx4,lzx5,lzx6,lzx7]\n",
    "lzx"
   ]
  },
  {
   "cell_type": "code",
   "execution_count": 127,
   "id": "b089f621",
   "metadata": {},
   "outputs": [
    {
     "data": {
      "text/plain": [
       "[400, 340, 150, 340, 150, 300, 300]"
      ]
     },
     "execution_count": 127,
     "metadata": {},
     "output_type": "execute_result"
    }
   ],
   "source": [
    "A = [] # mm^2 (površina zvara)\n",
    "for i in range(0,len(lzx)):\n",
    "    j = lzx[i] * lzy[i]\n",
    "    A.append(j)\n",
    "A"
   ]
  },
  {
   "cell_type": "markdown",
   "id": "2be4bc6d",
   "metadata": {},
   "source": [
    "# Težišča zvarov"
   ]
  },
  {
   "cell_type": "code",
   "execution_count": 128,
   "id": "8dca8f92",
   "metadata": {},
   "outputs": [
    {
     "data": {
      "text/plain": [
       "[80.5, 39.0, 128.0, 39.0, 128.0, 35.0, 35.0]"
      ]
     },
     "execution_count": 128,
     "metadata": {},
     "output_type": "execute_result"
    }
   ],
   "source": [
    "yT = [] # mm (y - težišča)\n",
    "for i in range(0,len(y)):\n",
    "    j = lzy[i]/2 + y[i]\n",
    "    yT.append(j)\n",
    "yT"
   ]
  },
  {
   "cell_type": "code",
   "execution_count": 129,
   "id": "e4c4c80e",
   "metadata": {},
   "outputs": [
    {
     "data": {
      "text/plain": [
       "59.656565656565654"
      ]
     },
     "execution_count": 129,
     "metadata": {},
     "output_type": "execute_result"
    }
   ],
   "source": [
    "jj = 0\n",
    "for i in range(0, len(A)):\n",
    "    j = A[i] * yT[i]\n",
    "    jj = jj + j\n",
    "yTsys = jj / sum(A)\n",
    "yTsys # mm (y - težišče sistema)"
   ]
  },
  {
   "cell_type": "code",
   "execution_count": 130,
   "id": "8f2ce333",
   "metadata": {},
   "outputs": [
    {
     "data": {
      "text/plain": [
       "50.0"
      ]
     },
     "execution_count": 130,
     "metadata": {},
     "output_type": "execute_result"
    }
   ],
   "source": [
    "xTsys = a + d1/2\n",
    "xTsys # mm (x - težišče sistema)"
   ]
  },
  {
   "cell_type": "markdown",
   "id": "ff9c6ba8",
   "metadata": {},
   "source": [
    "# Vztrajnostni moment"
   ]
  },
  {
   "cell_type": "code",
   "execution_count": 131,
   "id": "c8bb026e",
   "metadata": {
    "scrolled": false
   },
   "outputs": [
    {
     "data": {
      "text/plain": [
       "[833.3333333333334,\n",
       " 131013.33333333333,\n",
       " 11250.0,\n",
       " 131013.33333333333,\n",
       " 11250.0,\n",
       " 90000.0,\n",
       " 90000.0]"
      ]
     },
     "execution_count": 131,
     "metadata": {},
     "output_type": "execute_result"
    }
   ],
   "source": [
    "Iz = [] # mm^4 (težiščni vztrajnostni moment zvarov)\n",
    "for i in range(0,len(lzy)):\n",
    "    j = lzx[i] * lzy[i]**3 / 12\n",
    "    Iz.append(j)\n",
    "Iz"
   ]
  },
  {
   "cell_type": "code",
   "execution_count": 132,
   "id": "5d36ff73",
   "metadata": {},
   "outputs": [
    {
     "data": {
      "text/plain": [
       "[173779.50209162335,\n",
       " 145075.85960616262,\n",
       " 700623.7526782984,\n",
       " 145075.85960616262,\n",
       " 700623.7526782984,\n",
       " 182383.86899295988,\n",
       " 182383.86899295988]"
      ]
     },
     "execution_count": 132,
     "metadata": {},
     "output_type": "execute_result"
    }
   ],
   "source": [
    "St = [] # mm^4 (Steinerjevo število zvarov)\n",
    "for i in range(0,len(A)):\n",
    "    j = A[i] * (yTsys - yT[i])**2\n",
    "    St.append(j)\n",
    "St"
   ]
  },
  {
   "cell_type": "code",
   "execution_count": 133,
   "id": "a450f328",
   "metadata": {},
   "outputs": [
    {
     "data": {
      "text/plain": [
       "2695306.464646465"
      ]
     },
     "execution_count": 133,
     "metadata": {},
     "output_type": "execute_result"
    }
   ],
   "source": [
    "Izsys = sum(Iz) + sum(St) # mm^4 (težiščni vztrajnostni moment zvarov)\n",
    "Izsys"
   ]
  },
  {
   "cell_type": "markdown",
   "id": "5b7f4dc2",
   "metadata": {},
   "source": [
    "# NTM"
   ]
  },
  {
   "cell_type": "code",
   "execution_count": 134,
   "id": "955265a8",
   "metadata": {},
   "outputs": [
    {
     "data": {
      "text/plain": [
       "15000"
      ]
     },
     "execution_count": 134,
     "metadata": {},
     "output_type": "execute_result"
    }
   ],
   "source": [
    "N = Fx*1000 # N (normalna sila - natezna)\n",
    "N"
   ]
  },
  {
   "cell_type": "code",
   "execution_count": 135,
   "id": "93d5eba4",
   "metadata": {},
   "outputs": [],
   "source": [
    "x = np.linspace(0,L,24)\n",
    "# print(x)\n",
    "x1 = np.linspace(L,0,24)\n",
    "# print(x1)"
   ]
  },
  {
   "cell_type": "code",
   "execution_count": 136,
   "id": "77fb51cb",
   "metadata": {},
   "outputs": [
    {
     "data": {
      "text/plain": [
       "<matplotlib.collections.PolyCollection at 0x27161fbb310>"
      ]
     },
     "execution_count": 136,
     "metadata": {},
     "output_type": "execute_result"
    },
    {
     "data": {
      "image/png": "[encoded data removed]",
      "text/plain": [
       "<Figure size 432x288 with 1 Axes>"
      ]
     },
     "metadata": {
      "needs_background": "light"
     },
     "output_type": "display_data"
    }
   ],
   "source": [
    "plt.plot(x,x*0-N,color = 'blue')\n",
    "plt.axis((0, L, -N*2.4, 0))\n",
    "plt.fill_between(x,-N,alpha=0.2,color = 'blue')"
   ]
  },
  {
   "cell_type": "code",
   "execution_count": 137,
   "id": "3b653722",
   "metadata": {},
   "outputs": [
    {
     "data": {
      "text/plain": [
       "1000"
      ]
     },
     "execution_count": 137,
     "metadata": {},
     "output_type": "execute_result"
    }
   ],
   "source": [
    "T = Fy*1000 # N (strižna sila)\n",
    "T"
   ]
  },
  {
   "cell_type": "code",
   "execution_count": 138,
   "id": "0526a61b",
   "metadata": {},
   "outputs": [
    {
     "data": {
      "text/plain": [
       "<matplotlib.collections.PolyCollection at 0x27162013f40>"
      ]
     },
     "execution_count": 138,
     "metadata": {},
     "output_type": "execute_result"
    },
    {
     "data": {
      "image/png": "[encoded data removed]",
      "text/plain": [
       "<Figure size 432x288 with 1 Axes>"
      ]
     },
     "metadata": {
      "needs_background": "light"
     },
     "output_type": "display_data"
    }
   ],
   "source": [
    "plt.plot(x,x*0-T,color = 'blue')\n",
    "plt.axis((0, L, -T*6, 0))\n",
    "plt.fill_between(x,-T,alpha=0.2,color = 'blue')"
   ]
  },
  {
   "cell_type": "code",
   "execution_count": 139,
   "id": "9441ec51",
   "metadata": {},
   "outputs": [
    {
     "data": {
      "text/plain": [
       "array([850.        , 839.13043478, 828.26086957, 817.39130435,\n",
       "       806.52173913, 795.65217391, 784.7826087 , 773.91304348,\n",
       "       763.04347826, 752.17391304, 741.30434783, 730.43478261,\n",
       "       719.56521739, 708.69565217, 697.82608696, 686.95652174,\n",
       "       676.08695652, 665.2173913 , 654.34782609, 643.47826087,\n",
       "       632.60869565, 621.73913043, 610.86956522, 600.        ])"
      ]
     },
     "execution_count": 139,
     "metadata": {},
     "output_type": "execute_result"
    }
   ],
   "source": [
    "M = Fx * h + Fy * x1 # Nm (moment)\n",
    "M"
   ]
  },
  {
   "cell_type": "code",
   "execution_count": 140,
   "id": "f00f3c7b",
   "metadata": {},
   "outputs": [
    {
     "data": {
      "text/plain": [
       "850000.0"
      ]
     },
     "execution_count": 140,
     "metadata": {},
     "output_type": "execute_result"
    }
   ],
   "source": [
    "Mmax = max(M)*1000 # Nmm (max moment)\n",
    "Mmax\n"
   ]
  },
  {
   "cell_type": "code",
   "execution_count": 141,
   "id": "ee85da52",
   "metadata": {},
   "outputs": [],
   "source": [
    "# %matplotlib notebook"
   ]
  },
  {
   "cell_type": "code",
   "execution_count": 142,
   "id": "8fecb688",
   "metadata": {},
   "outputs": [],
   "source": [
    "# %matplotlib inline"
   ]
  },
  {
   "cell_type": "code",
   "execution_count": 143,
   "id": "570bbcec",
   "metadata": {
    "scrolled": false
   },
   "outputs": [
    {
     "data": {
      "text/plain": [
       "<matplotlib.collections.PolyCollection at 0x27162081a00>"
      ]
     },
     "execution_count": 143,
     "metadata": {},
     "output_type": "execute_result"
    },
    {
     "data": {
      "image/png": "[encoded data removed]",
      "text/plain": [
       "<Figure size 432x288 with 1 Axes>"
      ]
     },
     "metadata": {
      "needs_background": "light"
     },
     "output_type": "display_data"
    }
   ],
   "source": [
    "# plt.plot?\n",
    "plt.plot(x,M,color = 'blue')\n",
    "plt.axis((0, L, 0, Mmax/1000+600))\n",
    "plt.fill_between(x,M,alpha=0.2,color = 'blue')"
   ]
  },
  {
   "cell_type": "markdown",
   "id": "9c4c7b6d",
   "metadata": {},
   "source": [
    "# Normalne napetosti v zvarih"
   ]
  },
  {
   "cell_type": "code",
   "execution_count": 144,
   "id": "ddfded68",
   "metadata": {
    "scrolled": true
   },
   "outputs": [
    {
     "data": {
      "text/plain": [
       "array([  5.        ,  11.18181818,  17.36363636,  23.54545455,\n",
       "        29.72727273,  35.90909091,  42.09090909,  48.27272727,\n",
       "        54.45454545,  60.63636364,  66.81818182,  73.        ,\n",
       "        78.        ,  78.45454545,  78.90909091,  79.36363636,\n",
       "        79.81818182,  80.27272727,  80.72727273,  81.18181818,\n",
       "        81.63636364,  82.09090909,  82.54545455,  83.        ,\n",
       "       113.        , 115.72727273, 118.45454545, 121.18181818,\n",
       "       123.90909091, 126.63636364, 129.36363636, 132.09090909,\n",
       "       134.81818182, 137.54545455, 140.27272727, 143.        ])"
      ]
     },
     "execution_count": 144,
     "metadata": {},
     "output_type": "execute_result"
    }
   ],
   "source": [
    "yi = np.concatenate((np.linspace(a,d2+t-a,12), np.linspace(d2+t,d2+t+a,12),np.linspace(d2+t+r+a,d2+t+r+d3-a,12)))\n",
    "yi"
   ]
  },
  {
   "cell_type": "code",
   "execution_count": 145,
   "id": "05b210b1",
   "metadata": {
    "scrolled": true
   },
   "outputs": [
    {
     "data": {
      "text/plain": [
       "array([-54.65656566, -48.47474747, -42.29292929, -36.11111111,\n",
       "       -29.92929293, -23.74747475, -17.56565657, -11.38383838,\n",
       "        -5.2020202 ,   0.97979798,   7.16161616,  13.34343434,\n",
       "        18.34343434,  18.7979798 ,  19.25252525,  19.70707071,\n",
       "        20.16161616,  20.61616162,  21.07070707,  21.52525253,\n",
       "        21.97979798,  22.43434343,  22.88888889,  23.34343434,\n",
       "        53.34343434,  56.07070707,  58.7979798 ,  61.52525253,\n",
       "        64.25252525,  66.97979798,  69.70707071,  72.43434343,\n",
       "        75.16161616,  77.88888889,  80.61616162,  83.34343434])"
      ]
     },
     "execution_count": 145,
     "metadata": {},
     "output_type": "execute_result"
    }
   ],
   "source": [
    "yTi = -yTsys + yi # mm (razdalja od težišča)\n",
    "yTi"
   ]
  },
  {
   "cell_type": "code",
   "execution_count": 146,
   "id": "697f3d63",
   "metadata": {
    "scrolled": true
   },
   "outputs": [
    {
     "data": {
      "text/plain": [
       "array([7.57575758, 7.57575758, 7.57575758, 7.57575758, 7.57575758,\n",
       "       7.57575758, 7.57575758, 7.57575758, 7.57575758, 7.57575758,\n",
       "       7.57575758, 7.57575758])"
      ]
     },
     "execution_count": 146,
     "metadata": {},
     "output_type": "execute_result"
    }
   ],
   "source": [
    "Nap1 = N / sum(A) # N/mm^2 = MPa (normalna napetost)\n",
    "Nap_nor = np.array([Nap1,Nap1,Nap1,Nap1,Nap1,Nap1,Nap1,Nap1,Nap1,Nap1,Nap1,Nap1])\n",
    "Nap_nor"
   ]
  },
  {
   "cell_type": "code",
   "execution_count": 147,
   "id": "11399666",
   "metadata": {
    "scrolled": true
   },
   "outputs": [
    {
     "data": {
      "text/plain": [
       "array([-17.23665988, -15.287143  , -13.33762612, -11.38810924,\n",
       "        -9.43859235,  -7.48907547,  -5.53955859,  -3.59004171,\n",
       "        -1.64052483,   0.30899205,   2.25850894,   4.20802582,\n",
       "         5.78484094,   5.92818777,   6.0715346 ,   6.21488143,\n",
       "         6.35822826,   6.50157509,   6.64492192,   6.78826875,\n",
       "         6.93161558,   7.07496241,   7.21830924,   7.36165607,\n",
       "        16.82254682,  17.6826278 ,  18.54270877,  19.40278975,\n",
       "        20.26287073,  21.1229517 ,  21.98303268,  22.84311366,\n",
       "        23.70319464,  24.56327561,  25.42335659,  26.28343757])"
      ]
     },
     "execution_count": 147,
     "metadata": {},
     "output_type": "execute_result"
    }
   ],
   "source": [
    "Nap_upo = Mmax / Izsys * yTi # N/mm^2 = MPa (upogibna napetost)\n",
    "Nap_upo"
   ]
  },
  {
   "cell_type": "code",
   "execution_count": 148,
   "id": "2cb22e71",
   "metadata": {},
   "outputs": [
    {
     "data": {
      "text/plain": [
       "array([-9.66090231, -7.71138542, -5.76186854, -3.81235166, -1.86283478,\n",
       "        0.0866821 ,  2.03619899,  3.98571587,  5.93523275,  7.88474963,\n",
       "        9.83426651, 11.78378339, 13.36059852, 13.50394535, 13.64729218,\n",
       "       13.79063901, 13.93398584, 14.07733267, 14.2206795 , 14.36402633,\n",
       "       14.50737316, 14.65071999, 14.79406681, 14.93741364, 24.39830439,\n",
       "       25.25838537, 26.11846635, 26.97854733, 27.8386283 , 28.69870928,\n",
       "       29.55879026, 30.41887124, 31.27895221, 32.13903319, 32.99911417,\n",
       "       33.85919514])"
      ]
     },
     "execution_count": 148,
     "metadata": {},
     "output_type": "execute_result"
    }
   ],
   "source": [
    "Nap_sys = Nap_upo + max(Nap_nor) # N/mm^2 = MPa (skupna napetost)\n",
    "Nap_sys"
   ]
  },
  {
   "cell_type": "code",
   "execution_count": 149,
   "id": "8affcf7b",
   "metadata": {},
   "outputs": [],
   "source": [
    "vline0 = np.array([0,0])\n",
    "vline1 = np.array([yTi[0],yTi[0]])\n",
    "vline2 = np.array([yTi[11],yTi[11]])\n",
    "vline3 = np.array([yTi[12],yTi[12]])\n",
    "vline4 = np.array([yTi[23],yTi[23]])\n",
    "vline5 = np.array([yTi[24],yTi[24]])\n",
    "vline6 = np.array([yTi[35],yTi[35]])\n",
    "\n",
    "bb = np.array([min(min(Nap_nor),min(Nap_upo),min(Nap_sys))-2,max(max(Nap_nor),max(Nap_upo),max(Nap_sys))+2])\n",
    "\n",
    "hline = np.array([yTi[0],yTi[35]])\n",
    "\n",
    "bbb = np.array([0,0])"
   ]
  },
  {
   "cell_type": "code",
   "execution_count": 150,
   "id": "e62a635a",
   "metadata": {},
   "outputs": [
    {
     "data": {
      "text/plain": [
       "[<matplotlib.lines.Line2D at 0x27162119d30>]"
      ]
     },
     "execution_count": 150,
     "metadata": {},
     "output_type": "execute_result"
    },
    {
     "data": {
      "image/png": "[encoded data removed]",
      "text/plain": [
       "<Figure size 432x288 with 1 Axes>"
      ]
     },
     "metadata": {
      "needs_background": "light"
     },
     "output_type": "display_data"
    }
   ],
   "source": [
    "#Nateg\n",
    "plt.plot(yTi[0:12], Nap_nor[0:12],color = 'blue',linewidth = 2)\n",
    "plt.fill_between(yTi[0:12],Nap_nor[0:12],alpha=0.2,color = 'blue')\n",
    "plt.plot(yTi[12:24], Nap_nor[0:12],color = 'blue',linewidth = 2)\n",
    "plt.fill_between(yTi[12:24],Nap_nor[0:12],alpha=0.2,color = 'blue')\n",
    "plt.plot(yTi[24:36], Nap_nor[0:12],color = 'blue',linewidth = 2)\n",
    "plt.fill_between(yTi[24:36],Nap_nor[0:12],alpha=0.2,color = 'blue')\n",
    "\n",
    "# Grid:\n",
    "\n",
    "plt.plot(vline0,bb,'--k',linewidth = 1.4)\n",
    "plt.plot(vline1,bb,'k',alpha=0.6,linewidth = 1.2)\n",
    "plt.plot(vline2,bb,'k',alpha=0.6,linewidth = 1.2)\n",
    "plt.plot(vline3,bb,'k',alpha=0.6,linewidth = 1.2)\n",
    "plt.plot(vline4,bb,'k',alpha=0.6,linewidth = 1.2)\n",
    "plt.plot(vline5,bb,'k',alpha=0.6,linewidth = 1.2)\n",
    "plt.plot(vline6,bb,'k',alpha=0.6,linewidth = 1.2)\n",
    "plt.plot(hline,bbb,'k',linewidth = 1.6)\n"
   ]
  },
  {
   "cell_type": "code",
   "execution_count": 151,
   "id": "d6bc882f",
   "metadata": {},
   "outputs": [
    {
     "data": {
      "text/plain": [
       "[<matplotlib.lines.Line2D at 0x271621ab6a0>]"
      ]
     },
     "execution_count": 151,
     "metadata": {},
     "output_type": "execute_result"
    },
    {
     "data": {
      "image/png": "[encoded data removed]",
      "text/plain": [
       "<Figure size 432x288 with 1 Axes>"
      ]
     },
     "metadata": {
      "needs_background": "light"
     },
     "output_type": "display_data"
    }
   ],
   "source": [
    "#Upogib \n",
    "plt.plot(yTi[0:12], Nap_upo[0:12],color = 'blue',linewidth = 2)\n",
    "plt.fill_between(yTi[0:12],Nap_upo[0:12],alpha=0.2,color = 'blue')\n",
    "plt.plot(yTi[12:24], Nap_upo[12:24],color = 'blue',linewidth = 2)\n",
    "plt.fill_between(yTi[12:24],Nap_upo[12:24],alpha=0.2,color = 'blue')\n",
    "plt.plot(yTi[24:36], Nap_upo[24:36],color = 'blue',linewidth = 2)\n",
    "plt.fill_between(yTi[24:36],Nap_upo[24:36],alpha=0.2,color = 'blue')\n",
    "\n",
    "# Grid:\n",
    "\n",
    "plt.plot(vline0,bb,'--k',linewidth = 1.4)\n",
    "plt.plot(vline1,bb,'k',alpha=0.6,linewidth = 1.2)\n",
    "plt.plot(vline2,bb,'k',alpha=0.6,linewidth = 1.2)\n",
    "plt.plot(vline3,bb,'k',alpha=0.6,linewidth = 1.2)\n",
    "plt.plot(vline4,bb,'k',alpha=0.6,linewidth = 1.2)\n",
    "plt.plot(vline5,bb,'k',alpha=0.6,linewidth = 1.2)\n",
    "plt.plot(vline6,bb,'k',alpha=0.6,linewidth = 1.2)\n",
    "plt.plot(hline,bbb,'k',linewidth = 1.6)"
   ]
  },
  {
   "cell_type": "code",
   "execution_count": 152,
   "id": "44de1c20",
   "metadata": {},
   "outputs": [
    {
     "data": {
      "text/plain": [
       "[<matplotlib.lines.Line2D at 0x2716223c160>]"
      ]
     },
     "execution_count": 152,
     "metadata": {},
     "output_type": "execute_result"
    },
    {
     "data": {
      "image/png": "[encoded data removed]",
      "text/plain": [
       "<Figure size 432x288 with 1 Axes>"
      ]
     },
     "metadata": {
      "needs_background": "light"
     },
     "output_type": "display_data"
    }
   ],
   "source": [
    "#Graf nateznih in strižnih \n",
    "plt.plot(yTi[0:12], Nap_sys[0:12],color = 'blue',linewidth = 2)\n",
    "plt.fill_between(yTi[0:12],Nap_sys[0:12],alpha=0.2,color = 'blue')\n",
    "plt.plot(yTi[12:24], Nap_sys[12:24],color = 'blue',linewidth = 2)\n",
    "plt.fill_between(yTi[12:24],Nap_sys[12:24],alpha=0.2,color = 'blue')\n",
    "plt.plot(yTi[24:36], Nap_sys[24:36],color = 'blue',linewidth = 2)\n",
    "plt.fill_between(yTi[24:36],Nap_sys[24:36],alpha=0.2,color = 'blue')\n",
    "\n",
    "# Grid:\n",
    "\n",
    "plt.plot(vline0,bb,'--k',linewidth = 1.4)\n",
    "plt.plot(vline1,bb,'k',alpha=0.6,linewidth = 1.2)\n",
    "plt.plot(vline2,bb,'k',alpha=0.6,linewidth = 1.2)\n",
    "plt.plot(vline3,bb,'k',alpha=0.6,linewidth = 1.2)\n",
    "plt.plot(vline4,bb,'k',alpha=0.6,linewidth = 1.2)\n",
    "plt.plot(vline5,bb,'k',alpha=0.6,linewidth = 1.2)\n",
    "plt.plot(vline6,bb,'k',alpha=0.6,linewidth = 1.2)\n",
    "plt.plot(hline,bbb,'k',linewidth = 1.6)"
   ]
  },
  {
   "cell_type": "markdown",
   "id": "983505aa",
   "metadata": {},
   "source": [
    "# Strižne napetosti v zvarih"
   ]
  },
  {
   "cell_type": "code",
   "execution_count": 153,
   "id": "b3ac7926",
   "metadata": {},
   "outputs": [
    {
     "data": {
      "text/plain": [
       "array([0.63291139, 0.63291139, 0.63291139, 0.63291139, 0.63291139,\n",
       "       0.63291139, 0.63291139, 0.63291139, 0.63291139, 0.63291139,\n",
       "       0.63291139, 0.63291139])"
      ]
     },
     "execution_count": 153,
     "metadata": {},
     "output_type": "execute_result"
    }
   ],
   "source": [
    "Nap2 = T/sum(A[1:len(A)]) # N/mm^2 = MPa (strižna napetost)\n",
    "Nap_str = np.array([Nap2,Nap2,Nap2,Nap2,Nap2,Nap2,Nap2,Nap2,Nap2,Nap2,Nap2,Nap2])\n",
    "Nap_str"
   ]
  },
  {
   "cell_type": "code",
   "execution_count": 154,
   "id": "13ff9c4b",
   "metadata": {},
   "outputs": [
    {
     "data": {
      "text/plain": [
       "array([-5.36708861,  6.63291139])"
      ]
     },
     "execution_count": 154,
     "metadata": {},
     "output_type": "execute_result"
    }
   ],
   "source": [
    "bb1 = np.array([min(Nap_str)-6,max(Nap_str)+6])\n",
    "bb1"
   ]
  },
  {
   "cell_type": "code",
   "execution_count": 155,
   "id": "2ae364cd",
   "metadata": {},
   "outputs": [
    {
     "data": {
      "text/plain": [
       "[<matplotlib.lines.Line2D at 0x271622b7820>]"
      ]
     },
     "execution_count": 155,
     "metadata": {},
     "output_type": "execute_result"
    },
    {
     "data": {
      "image/png": "[encoded data removed]",
      "text/plain": [
       "<Figure size 432x288 with 1 Axes>"
      ]
     },
     "metadata": {
      "needs_background": "light"
     },
     "output_type": "display_data"
    }
   ],
   "source": [
    "#Strižne obremenitve \n",
    "plt.plot(yTi[0:12], Nap_str[0:12],color = 'blue',linewidth = 2)\n",
    "plt.fill_between(yTi[0:12],Nap_str[0:12],alpha=0.2,color = 'blue')\n",
    "plt.plot(yTi[24:36], Nap_str[0:12],color = 'blue',linewidth = 2)\n",
    "plt.fill_between(yTi[24:36],Nap_str[0:12],alpha=0.2,color = 'blue')\n",
    "\n",
    "# Grid:\n",
    "\n",
    "plt.plot(vline0,bb1,'--k',linewidth = 1.4)\n",
    "plt.plot(vline1,bb1,'k',alpha=0.6,linewidth = 1.2)\n",
    "plt.plot(vline2,bb1,'k',alpha=0.6,linewidth = 1.2)\n",
    "plt.plot(vline5,bb1,'k',alpha=0.6,linewidth = 1.2)\n",
    "plt.plot(vline6,bb1,'k',alpha=0.6,linewidth = 1.2)\n",
    "plt.plot(hline,bbb,'k',linewidth = 1.6)"
   ]
  },
  {
   "cell_type": "code",
   "execution_count": null,
   "id": "aec73619",
   "metadata": {},
   "outputs": [],
   "source": []
  },
  {
   "cell_type": "code",
   "execution_count": null,
   "id": "f3f245ce",
   "metadata": {},
   "outputs": [],
   "source": []
  },
  {
   "cell_type": "code",
   "execution_count": null,
   "id": "a8208dc6",
   "metadata": {},
   "outputs": [],
   "source": []
  },
  {
   "cell_type": "code",
   "execution_count": null,
   "id": "1fa01b96",
   "metadata": {},
   "outputs": [],
   "source": []
  },
  {
   "cell_type": "markdown",
   "id": "72574e4e",
   "metadata": {},
   "source": [
    "# Kontrole"
   ]
  },
  {
   "cell_type": "code",
   "execution_count": 156,
   "id": "e4fd8613",
   "metadata": {},
   "outputs": [
    {
     "name": "stdout",
     "output_type": "stream",
     "text": [
      "33.85919514440946\n",
      "0.6329113924050633\n"
     ]
    }
   ],
   "source": [
    "σ_E2 = max(Nap_sys)\n",
    "τ_E2 = Nap2\n",
    "print(σ_E2)\n",
    "print(τ_E2)"
   ]
  },
  {
   "cell_type": "code",
   "execution_count": 157,
   "id": "4846171e",
   "metadata": {},
   "outputs": [
    {
     "name": "stdout",
     "output_type": "stream",
     "text": [
      "48.85951709870831\n",
      "96.08995471851452\n"
     ]
    }
   ],
   "source": [
    "#Določitev trdnosti utrujanja\n",
    "m_normalni = 3\n",
    "m_strižni = 5\n",
    "Δσ_C = 36 \n",
    "Δτ_C = 80\n",
    "# N_r = 10**6\n",
    "N_r = 8*10**5\n",
    "\n",
    "\n",
    "Δσ_r = (Δσ_C**m_normalni*2*10**6/N_r)**(1/m_normalni)\n",
    "print(Δσ_r)\n",
    "\n",
    "Δτ_r = (Δτ_C**m_strižni*2*10**6/N_r)**(1/m_strižni)\n",
    "print(Δτ_r)"
   ]
  },
  {
   "cell_type": "code",
   "execution_count": 158,
   "id": "440db50b",
   "metadata": {},
   "outputs": [
    {
     "name": "stdout",
     "output_type": "stream",
     "text": [
      "0.8662384821570563\n"
     ]
    },
    {
     "data": {
      "text/plain": [
       "True"
      ]
     },
     "execution_count": 158,
     "metadata": {},
     "output_type": "execute_result"
    }
   ],
   "source": [
    "#kontrola\n",
    "γ_mf = 1.25\n",
    "γ_Ff = 1\n",
    "m_normalni = 3\n",
    "m_strižni = 5\n",
    "\n",
    "\n",
    "σ_komb = (σ_E2*γ_Ff/(Δσ_r /γ_mf))\n",
    "print(σ_komb)\n",
    "(σ_E2*γ_Ff/(Δσ_r /γ_mf)) <= 1\n",
    "\n",
    "\n"
   ]
  },
  {
   "cell_type": "code",
   "execution_count": 159,
   "id": "7baa1ea1",
   "metadata": {},
   "outputs": [
    {
     "name": "stdout",
     "output_type": "stream",
     "text": [
      "0.008233318902312827\n"
     ]
    },
    {
     "data": {
      "text/plain": [
       "True"
      ]
     },
     "execution_count": 159,
     "metadata": {},
     "output_type": "execute_result"
    }
   ],
   "source": [
    "τ_komb = (τ_E2*γ_Ff/(Δτ_r/γ_mf))\n",
    "print(τ_komb)\n",
    "(τ_E2*γ_Ff/(Δτ_r/γ_mf)) <= 1\n"
   ]
  },
  {
   "cell_type": "code",
   "execution_count": 160,
   "id": "d28591e7",
   "metadata": {},
   "outputs": [
    {
     "name": "stdout",
     "output_type": "stream",
     "text": [
      "0.6499985971831033\n"
     ]
    },
    {
     "data": {
      "text/plain": [
       "True"
      ]
     },
     "execution_count": 160,
     "metadata": {},
     "output_type": "execute_result"
    }
   ],
   "source": [
    "σ_skupna = σ_komb**m_normalni + τ_komb**m_strižni\n",
    "print(σ_skupna)\n",
    "σ_komb**m_normalni + τ_komb**m_strižni  <= 1"
   ]
  },
  {
   "cell_type": "code",
   "execution_count": 161,
   "id": "b42ef97c",
   "metadata": {},
   "outputs": [
    {
     "name": "stdout",
     "output_type": "stream",
     "text": [
      "532.5\n"
     ]
    },
    {
     "data": {
      "text/plain": [
       "True"
      ]
     },
     "execution_count": 161,
     "metadata": {},
     "output_type": "execute_result"
    }
   ],
   "source": [
    "f_y= 355 #material \n",
    "print(1.5*f_y)\n",
    "σ_E2 <= 1.5*f_y"
   ]
  },
  {
   "cell_type": "markdown",
   "id": "619f0c9b",
   "metadata": {},
   "source": [
    "# Površinska napetost"
   ]
  },
  {
   "cell_type": "code",
   "execution_count": 162,
   "id": "f1e69e68",
   "metadata": {},
   "outputs": [],
   "source": [
    "#podatki\n",
    "F_1 = Fy = 1.2 # kN\n",
    "F_2 = Fx = 30 # kN\n",
    "L = 300 # mm\n",
    "\n",
    "#h = 40 # mm\n",
    "L_1 = 120 # mm\n",
    "#Jeklo: S335\n",
    "dL = 26 # mm\n",
    "t_s = 10 # mm\n",
    "\n",
    "h = d2+t+h-40 #TOLE JE NOVO!!!"
   ]
  },
  {
   "cell_type": "code",
   "execution_count": 163,
   "id": "99a5715f",
   "metadata": {},
   "outputs": [
    {
     "name": "stdout",
     "output_type": "stream",
     "text": [
      "-22.25\n",
      "-7.75\n"
     ]
    }
   ],
   "source": [
    "Fbx = (-F_1*L+30 - F_2 *h)/L_1 \n",
    "Fax = -Fbx -F_2\n",
    "Fay = Fy\n",
    "print(Fbx)\n",
    "print(Fax)\n",
    "list_1 = [Fbx,Fax]\n"
   ]
  },
  {
   "cell_type": "code",
   "execution_count": 164,
   "id": "33d7644c",
   "metadata": {},
   "outputs": [
    {
     "name": "stdout",
     "output_type": "stream",
     "text": [
      "177.5\n",
      "20.150000000000002\n"
     ]
    },
    {
     "data": {
      "text/plain": [
       "True"
      ]
     },
     "execution_count": 164,
     "metadata": {},
     "output_type": "execute_result"
    }
   ],
   "source": [
    "f_y = 355 #jeklo : 355 \n",
    "f_max_p = max(list_1)\n",
    "f_max_p = abs(f_max_p)\n",
    "faktor_varnosti = 1.5\n",
    "σ_dop = f_y/faktor_varnosti\n",
    "p_dop = 0.75*σ_dop\n",
    "print(p_dop)\n",
    "print(f_max_p/t_s*dL)\n",
    "(f_max_p/t_s*dL) <= p_dop"
   ]
  },
  {
   "cell_type": "markdown",
   "id": "0201a39c",
   "metadata": {},
   "source": [
    "# Težišče telesa"
   ]
  },
  {
   "cell_type": "code",
   "execution_count": 165,
   "id": "a3f0dd5a",
   "metadata": {},
   "outputs": [],
   "source": [
    "#podatki, TA IZRAČUN VELJA ZA ENO REBRO!!\n",
    "\n",
    "t = 10 # mm (debeliba pločevine)\n",
    "a = 7 # mm (debelina zvara)\n",
    "r = 30 # mm (pasnica - rebro)\n",
    "d1 = 110 # mm (pasnica)\n",
    "d2 = 75# mm (stojin)\n",
    "d3 = 50 # mm (rebro)\n",
    "h = 30"
   ]
  },
  {
   "cell_type": "code",
   "execution_count": 166,
   "id": "08eb1abc",
   "metadata": {},
   "outputs": [
    {
     "name": "stdout",
     "output_type": "stream",
     "text": [
      "[37.5, 37.5, 80.0, 140.0]\n",
      "[105.0, -105.0, 0, 0]\n",
      "[750, 750, 1100, 500]\n"
     ]
    }
   ],
   "source": [
    "y1 = y2 = d2/2\n",
    "y3 = d2 + t/2\n",
    "y4 = d2 + t + h + d3/2\n",
    "\n",
    "y_list = [y1,y2,y3,y4]\n",
    "\n",
    "z1 =  d1 -t/2\n",
    "z2 =  (d1 -t/2)*(-1)\n",
    "z3 = 0\n",
    "z4 = 0\n",
    "\n",
    "z_list = [z1,z2,z3,z4]\n",
    "\n",
    "A1 = A2 = d2*t # površina stojine\n",
    "A3 = d1*t # površina pasnica\n",
    "A4 = d3*t # površina rebra\n",
    "\n",
    "A_list = [A1,A2,A3,A4]\n",
    "print(y_list)\n",
    "print(z_list)\n",
    "print(A_list)"
   ]
  },
  {
   "cell_type": "code",
   "execution_count": 167,
   "id": "55ead721",
   "metadata": {},
   "outputs": [
    {
     "name": "stdout",
     "output_type": "stream",
     "text": [
      "69.11290322580645\n",
      "0.0\n"
     ]
    }
   ],
   "source": [
    "#težišče\n",
    "yt = (A1*y1+A2*y2+A3*y3+A4*y4)/(A1+A2+A3+A4)\n",
    "print(yt)\n",
    "zt = (A1*z1+A2*z2+A3*z3+A4*z4)/(A1+A2+A3)\n",
    "print(zt)"
   ]
  },
  {
   "cell_type": "code",
   "execution_count": null,
   "id": "b69bd420",
   "metadata": {},
   "outputs": [],
   "source": []
  },
  {
   "cell_type": "code",
   "execution_count": 168,
   "id": "a8cc9bbd",
   "metadata": {},
   "outputs": [
    {
     "name": "stdout",
     "output_type": "stream",
     "text": [
      "[351562.5, 351562.5, 9166.666666666666, 104166.66666666667]\n",
      "[6250.0, 6250.0, 1109166.6666666667, 4166.666666666667]\n"
     ]
    }
   ],
   "source": [
    "#vztrajnostni moment\n",
    "\n",
    "Iz1 = t*d2**3/12\n",
    "Iz2 = Iz1\n",
    "Iz3 = d1*t**3/12\n",
    "Iz4 = t*d3**3/12\n",
    "\n",
    "Iz_list = [Iz1,Iz2 ,Iz3 ,Iz4 ]\n",
    "print(Iz_list)\n",
    "Iy1 = d2*t**3/12\n",
    "Iy2 = Iy1\n",
    "Iy3 = d1**3*t/12\n",
    "Iy4 = d3*t**3/12   \n",
    "\n",
    "Iy_list = [Iy1,Iy2,Iy3 ,Iy4]\n",
    "print(Iy_list)"
   ]
  },
  {
   "cell_type": "code",
   "execution_count": 169,
   "id": "94270313",
   "metadata": {},
   "outputs": [
    {
     "name": "stdout",
     "output_type": "stream",
     "text": [
      "[9375.0, 9375.0, 1833.3333333333333, 4166.666666666667]\n",
      "[1250.0, 1250.0, 20166.666666666668, 833.3333333333334]\n"
     ]
    }
   ],
   "source": [
    "# odbportnostni moment\n",
    "\n",
    "Wz1 = t*d2**2/6\n",
    "Wz2 = Wz1\n",
    "Wz3 = d1*t**2/6\n",
    "Wz4 = t*d3**2/6\n",
    "\n",
    "Wz_list = [Wz1,Wz2 ,Wz3 ,Wz4 ]\n",
    "print(Wz_list)\n",
    "\n",
    "Wy1 = d2*t**2/6\n",
    "Wy2 = Wy1\n",
    "Wy3 = d1**2*t/6\n",
    "Wy4 = d3*t**2/6 \n",
    "\n",
    "Wy_list = [Wy1,Wy2,Wy3 ,Wy4]\n",
    "print(Wy_list)"
   ]
  },
  {
   "cell_type": "markdown",
   "id": "079bc620",
   "metadata": {},
   "source": [
    "# Vztrajnostni moment"
   ]
  },
  {
   "cell_type": "code",
   "execution_count": 170,
   "id": "b3cd93bc",
   "metadata": {},
   "outputs": [
    {
     "data": {
      "text/plain": [
       "4958393.817204301"
      ]
     },
     "execution_count": 170,
     "metadata": {},
     "output_type": "execute_result"
    }
   ],
   "source": [
    "iz_s=[]\n",
    "for i in range(0,4):\n",
    "    Iz1 = Iz_list[i] + (y_list[i] - yt)**2*A_list[i]\n",
    "    iz_s.append(Iz1)\n",
    "    \n",
    "Iz=sum(iz_s)\n",
    "Iz"
   ]
  },
  {
   "cell_type": "code",
   "execution_count": 171,
   "id": "4a635828",
   "metadata": {},
   "outputs": [
    {
     "data": {
      "text/plain": [
       "17663333.333333336"
      ]
     },
     "execution_count": 171,
     "metadata": {},
     "output_type": "execute_result"
    }
   ],
   "source": [
    "iys = []\n",
    "for i in range(0,4):\n",
    "    iy_s = Iy_list[i] + (z_list[i] - zt)**2*A_list[i]\n",
    "    iys.append(iy_s)\n",
    "    \n",
    "Iy = sum(iys)\n",
    "Iy"
   ]
  },
  {
   "cell_type": "code",
   "execution_count": null,
   "id": "ce1e2358",
   "metadata": {},
   "outputs": [],
   "source": []
  },
  {
   "cell_type": "code",
   "execution_count": null,
   "id": "a21c4d68",
   "metadata": {},
   "outputs": [],
   "source": []
  },
  {
   "cell_type": "markdown",
   "id": "56de61c5",
   "metadata": {},
   "source": [
    "# Odpornostni moment"
   ]
  },
  {
   "cell_type": "code",
   "execution_count": 172,
   "id": "bb190a52",
   "metadata": {},
   "outputs": [
    {
     "data": {
      "text/plain": [
       "4166685.4838709678"
      ]
     },
     "execution_count": 172,
     "metadata": {},
     "output_type": "execute_result"
    }
   ],
   "source": [
    "wz_s=[]\n",
    "tvoja_oci = []\n",
    "for i in range(0,4):\n",
    "    wz1 = Wz_list[i] + (y_list[i] - yt)**2*A_list[i]\n",
    "    wz_s.append(wz1)\n",
    "    \n",
    "Wz=sum(wz_s)\n",
    "Wz"
   ]
  },
  {
   "cell_type": "code",
   "execution_count": 173,
   "id": "273a1b29",
   "metadata": {},
   "outputs": [
    {
     "data": {
      "text/plain": [
       "16561000.0"
      ]
     },
     "execution_count": 173,
     "metadata": {},
     "output_type": "execute_result"
    }
   ],
   "source": [
    "wys = []\n",
    "for i in range(0,4):\n",
    "    Wy_s = Wy_list[i] + (z_list[i] - zt)**2*A_list[i]\n",
    "    wys.append(Wy_s)\n",
    "    \n",
    "Wy = sum(wys)\n",
    "Wy"
   ]
  },
  {
   "cell_type": "markdown",
   "id": "e2dfe1ee",
   "metadata": {},
   "source": [
    "# 2.1 Določitev dimenzij profila\n"
   ]
  },
  {
   "cell_type": "code",
   "execution_count": 176,
   "id": "cec57ac4",
   "metadata": {},
   "outputs": [
    {
     "data": {
      "text/plain": [
       "0.20399907871383807"
      ]
     },
     "execution_count": 176,
     "metadata": {},
     "output_type": "execute_result"
    }
   ],
   "source": [
    "σ_fdop = 355\n",
    "\n",
    "σ_max = /Wz\n",
    "σ_max <=  σ_fdop\n",
    "σ_max"
   ]
  },
  {
   "cell_type": "code",
   "execution_count": null,
   "id": "c5ce71d3",
   "metadata": {},
   "outputs": [],
   "source": []
  },
  {
   "cell_type": "code",
   "execution_count": 175,
   "id": "70277bb4",
   "metadata": {},
   "outputs": [
    {
     "name": "stdout",
     "output_type": "stream",
     "text": [
      "0.00013276188591588645\n"
     ]
    },
    {
     "data": {
      "text/plain": [
       "True"
      ]
     },
     "execution_count": 175,
     "metadata": {},
     "output_type": "execute_result"
    }
   ],
   "source": [
    "Fy = 1\n",
    "E = 2.1*10**5\n",
    "\n",
    "f_dop = L/500\n",
    "L = 240\n",
    "f_max = (Fy*10*3*L**3)/(3*E*Iz)\n",
    "print(f_max)\n",
    "(Fy*10*3*L**3)/(3*E*Iz) <= f_dop"
   ]
  },
  {
   "cell_type": "code",
   "execution_count": null,
   "id": "25a610cd",
   "metadata": {},
   "outputs": [],
   "source": []
  },
  {
   "cell_type": "code",
   "execution_count": null,
   "id": "5c05ba49",
   "metadata": {},
   "outputs": [],
   "source": []
  },
  {
   "cell_type": "code",
   "execution_count": null,
   "id": "9a70e84b",
   "metadata": {},
   "outputs": [],
   "source": []
  }
 ],
 "metadata": {
  "kernelspec": {
   "display_name": "Python 3 (ipykernel)",
   "language": "python",
   "name": "python3"
  },
  "language_info": {
   "codemirror_mode": {
    "name": "ipython",
    "version": 3
   },
   "file_extension": ".py",
   "mimetype": "text/x-python",
   "name": "python",
   "nbconvert_exporter": "python",
   "pygments_lexer": "ipython3",
   "version": "3.9.12"
  }
 },
 "nbformat": 4,
 "nbformat_minor": 5
}
